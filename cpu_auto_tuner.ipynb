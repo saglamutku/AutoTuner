{
 "cells": [
  {
   "cell_type": "code",
   "execution_count": null,
   "id": "d753a6ba",
   "metadata": {
    "vscode": {
     "languageId": "plaintext"
    }
   },
   "outputs": [],
   "source": [
    "#For colab work"
   ]
  },
  {
   "cell_type": "code",
   "execution_count": null,
   "id": "d33fd344",
   "metadata": {
    "vscode": {
     "languageId": "plaintext"
    }
   },
   "outputs": [],
   "source": [
    "!git clone https://github.com/mihaescuvlad/SHARK-Platform.git\n",
    "%cd /content/AutoTunerSHARK-Platform/\n",
    "!git checkout remotes/origin/users/mihaescuvlad/configuration-generalization"
   ]
  },
  {
   "cell_type": "code",
   "execution_count": null,
   "id": "69c232d4",
   "metadata": {
    "vscode": {
     "languageId": "plaintext"
    }
   },
   "outputs": [],
   "source": [
    "!pip install -r /content/AutoTuner/SHARK-Platform/tuner/requirements-dev.txt\n",
    "!pip install -r /content/AutoTuner/SHARK-Platform/tuner/requirements-tuner.txt\n",
    "!pip install iree-base-compiler iree-base-runtime numpy"
   ]
  },
  {
   "cell_type": "code",
   "execution_count": null,
   "id": "6c1b40a3",
   "metadata": {
    "vscode": {
     "languageId": "plaintext"
    }
   },
   "outputs": [],
   "source": [
    "#apply patches\n",
    "!git apply /content/AutoTuner/0001-activate-configs.pkl.patch\n",
    "!git apply /content/AutoTuner/0002-activate-configs.pkl.patch"
   ]
  },
  {
   "cell_type": "code",
   "execution_count": null,
   "id": "efd004e1",
   "metadata": {
    "vscode": {
     "languageId": "plaintext"
    }
   },
   "outputs": [],
   "source": [
    "%cd /content/AutoTuner/SHARK-Platform/tuner/"
   ]
  },
  {
   "cell_type": "code",
   "execution_count": null,
   "id": "4a14179f",
   "metadata": {
    "vscode": {
     "languageId": "plaintext"
    }
   },
   "outputs": [],
   "source": [
    "!python -m examples.dispatch_cpu /content/dump/module_main_0_dispatch_2_embedded_elf_x86_64_benchmark.mlir  --num-candidates=10 --device=local-task://"
   ]
  },
  {
   "cell_type": "code",
   "execution_count": null,
   "id": "f83fbf9b",
   "metadata": {
    "vscode": {
     "languageId": "plaintext"
    }
   },
   "outputs": [],
   "source": []
  }
 ],
 "metadata": {
  "language_info": {
   "name": "python"
  }
 },
 "nbformat": 4,
 "nbformat_minor": 5
}
